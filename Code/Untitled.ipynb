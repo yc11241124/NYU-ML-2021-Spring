{
 "cells": [
  {
   "cell_type": "code",
   "execution_count": 1,
   "id": "6f9e28cb",
   "metadata": {},
   "outputs": [],
   "source": [
    "from DataLoader import LoadData_Abalone, LoadData_Banknote"
   ]
  },
  {
   "cell_type": "code",
   "execution_count": 2,
   "id": "f635a53e",
   "metadata": {},
   "outputs": [],
   "source": [
    "X, Y = LoadData_Banknote()"
   ]
  },
  {
   "cell_type": "code",
   "execution_count": 3,
   "id": "05d3ccf6",
   "metadata": {},
   "outputs": [
    {
     "name": "stdout",
     "output_type": "stream",
     "text": [
      "[[108.6661   97.1927   99.55301]\n",
      " [108.1674   97.5414   98.5379 ]\n",
      " [ 97.3617  101.9242  100.10645]\n",
      " ...\n",
      " [ 86.5414  117.5932   97.2229 ]\n",
      " [ 91.6173  112.393    98.7177 ]\n",
      " [ 99.34196 102.6842  101.1952 ]]\n",
      "[0 0 0 ... 1 1 1]\n",
      "(1372, 3)\n",
      "(1372,)\n"
     ]
    }
   ],
   "source": [
    "\n",
    "print(X)\n",
    "print(Y)\n",
    "print(X.shape)\n",
    "print(Y.shape)"
   ]
  },
  {
   "cell_type": "code",
   "execution_count": null,
   "id": "079de605",
   "metadata": {},
   "outputs": [],
   "source": [
    "    \n",
    "X_shifted = np.zeros(X_raw.shape)\n",
    "for i in range(0,X_raw.shape[1]):\n",
    "    X_i = X_raw[:,i]\n",
    "    print(np.amin(X_i))\n",
    "    min_i = 100 #np.amin(X_i)\n",
    "    X_shifted_i = X_i + np.absolute(min_i+1)\n",
    "    X_shifted[:,i] = X_shifted_i\n",
    "\n",
    "print(X_shifted)"
   ]
  },
  {
   "cell_type": "code",
   "execution_count": null,
   "id": "e5e5ca56",
   "metadata": {},
   "outputs": [],
   "source": []
  }
 ],
 "metadata": {
  "kernelspec": {
   "display_name": "Python [conda env:ML2021Spring] *",
   "language": "python",
   "name": "conda-env-ML2021Spring-py"
  },
  "language_info": {
   "codemirror_mode": {
    "name": "ipython",
    "version": 3
   },
   "file_extension": ".py",
   "mimetype": "text/x-python",
   "name": "python",
   "nbconvert_exporter": "python",
   "pygments_lexer": "ipython3",
   "version": "3.8.8"
  }
 },
 "nbformat": 4,
 "nbformat_minor": 5
}
