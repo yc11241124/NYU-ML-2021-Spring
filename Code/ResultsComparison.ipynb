{
 "cells": [
  {
   "cell_type": "code",
   "execution_count": 109,
   "id": "8bdfc7b0",
   "metadata": {},
   "outputs": [],
   "source": [
    "import numpy as np\n",
    "from numpy.random import default_rng\n",
    "\n",
    "import matplotlib.pyplot as plt\n",
    "from tqdm import tqdm_notebook as tqdm\n",
    "\n",
    "from sklearn.linear_model import LogisticRegression\n",
    "from sklearn.ensemble import RandomForestClassifier\n",
    "\n",
    "from sklearn.model_selection import train_test_split\n",
    "from sklearn.model_selection import RandomizedSearchCV\n",
    "import warnings\n",
    "warnings.filterwarnings('ignore') "
   ]
  },
  {
   "cell_type": "code",
   "execution_count": null,
   "id": "bd58979a",
   "metadata": {},
   "outputs": [],
   "source": []
  },
  {
   "cell_type": "code",
   "execution_count": 110,
   "id": "e8eabba1",
   "metadata": {},
   "outputs": [],
   "source": [
    "from sklearn.datasets import fetch_covtype\n",
    "X, Y = fetch_covtype(return_X_y=True)"
   ]
  },
  {
   "cell_type": "code",
   "execution_count": null,
   "id": "2661d689",
   "metadata": {},
   "outputs": [],
   "source": [
    "from sklearn.datasets import load_iris\n",
    "iris = load_iris()\n",
    "X = iris.data\n",
    "Y = iris.target"
   ]
  },
  {
   "cell_type": "code",
   "execution_count": 118,
   "id": "87ae3940",
   "metadata": {},
   "outputs": [
    {
     "name": "stdout",
     "output_type": "stream",
     "text": [
      "54\n",
      "581012\n"
     ]
    }
   ],
   "source": [
    "print(len(X[0]))\n",
    "print(len(Y))"
   ]
  },
  {
   "cell_type": "code",
   "execution_count": 111,
   "id": "20b56978",
   "metadata": {},
   "outputs": [],
   "source": [
    "def GenerateTrainAndTestDataset(X, Y, test_ratio):\n",
    "    X_train, X_test, Y_train, Y_test = train_test_split(X, Y, test_ratio)"
   ]
  },
  {
   "cell_type": "code",
   "execution_count": 112,
   "id": "ed2507f5",
   "metadata": {},
   "outputs": [],
   "source": [
    "def SearchForBestClfUsingRandomCV(X, Y, Classifier_Search):\n",
    "    params = {}\n",
    "    searcher_CV = RandomizedSearchCV(Classifier_Search, scoring='average_precision', cv=10, n_iter=10, param_distributions=params,\n",
    "                            refit=True, n_jobs=-1)\n",
    "    searcher_CV.fit(X, Y)\n",
    "    clf_best = searcher_CV.best_estimator_\n",
    "    \n",
    "    return clf_best"
   ]
  },
  {
   "cell_type": "code",
   "execution_count": 113,
   "id": "3d2b9760",
   "metadata": {},
   "outputs": [],
   "source": [
    "def TestAccurayOnDataset(X, Y, num_trials, test_size_ratio):\n",
    "    \n",
    "    dict_estimator = {}\n",
    "    dict_estimator['LinearRegression'] = {'train': [], 'test': []}\n",
    "    dict_estimator['SGD'] = {'train': [], 'test': []}\n",
    "    dict_estimator['LogisticRegression'] = {'train': [], 'test': []}\n",
    "    dict_estimator['LinearSVM'] = {'train': [], 'test': []}\n",
    "\n",
    "    dict_estimator['GaussianNaiveBayes'] = {'train': [], 'test': []}\n",
    "    dict_estimator['AdaBoost'] = {'train': [], 'test': []}\n",
    "    dict_estimator['RandomForest'] = {'train': [], 'test': []}\n",
    "    dict_estimator['GaussianProcess'] = {'train': [], 'test': []}\n",
    "\n",
    "    dict_estimator['NeuralNetwork'] = {'train': [], 'test': []}\n",
    "\n",
    "    \n",
    "    for i_trial in range(0, num_trials):\n",
    "        \n",
    "        X_train, X_test, Y_train, Y_test = train_test_split(X, Y, test_size=test_size_ratio)\n",
    "#         print(i_trial)\n",
    "        \n",
    "        Classifier_LogReg = LogisticRegression(fit_intercept=True)\n",
    "#         clf_LogReg = SearchForBestClfUsingRandomCV(X_train, Y_train, Classifier_LogReg)\n",
    "        clf_LogReg = Classifier_LogReg.fit(X_train, Y_train)\n",
    "        score_LogReg_Train = clf_LogReg.score(X_train, Y_train)\n",
    "        score_LogReg_Test = clf_LogReg.score(X_test, Y_test)\n",
    "        \n",
    "        dict_estimator['LogisticRegression']['train'].append(score_LogReg_Train)\n",
    "        dict_estimator['LogisticRegression']['test'].append(score_LogReg_Test)\n",
    "        \n",
    "#         print(\"LogReg Done\")\n",
    "        \n",
    "        Classifier_RF = RandomForestClassifier()\n",
    "#         clf_RF = SearchForBestClfUsingRandomCV(X_train, Y_train, Classifier_RF)\n",
    "        clf_RF = Classifier_RF.fit(X_train, Y_train)\n",
    "        score_RF_Train = clf_RF.score(X_train, Y_train)\n",
    "        score_RF_Test = clf_RF.score(X_test, Y_test)\n",
    "        \n",
    "        dict_estimator['RandomForest']['train'].append(score_RF_Train)\n",
    "        dict_estimator['RandomForest']['test'].append(score_RF_Test)\n",
    "        \n",
    "#         print(\"RF Done\")\n",
    "#         print(i_trial)\n",
    "        \n",
    "#         score_LinReg = GenerateFaultScore()\n",
    "#         score_SGD = GenerateFaultScore()\n",
    "#         score_LinSVM = GenerateFaultScore()\n",
    "#         score_GNB = GenerateFaultScore()\n",
    "#         score_Ada = GenerateFaultScore()\n",
    "#         score_GP = GenerateFaultScore()\n",
    "#         score_NN = GenerateFaultScore()\n",
    "        \n",
    "#         dict_estimator['LinearRegression'].append(score_LinReg)\n",
    "#         dict_estimator['SGD'].append(score_SGD)\n",
    "#         dict_estimator['LinearSVM'].append(score_LinSVM)\n",
    "#         dict_estimator['GaussianNaiveBayes'].append(score_GNB)\n",
    "#         dict_estimator['AdaBoost'].append(score_Ada)\n",
    "#         dict_estimator['GaussianProcess'].append(score_GP)\n",
    "#         dict_estimator['NeuralNetwork'].append(score_NN)\n",
    "        \n",
    "    return dict_estimator\n",
    "    "
   ]
  },
  {
   "cell_type": "code",
   "execution_count": 114,
   "id": "1c5c51a6",
   "metadata": {},
   "outputs": [],
   "source": [
    "def PlotResults(list_trials, dict_train, dict_test):\n",
    "    \n",
    "    for key in dict_train.keys():\n",
    "        plt.plot(list_trials, dict_train[key], '--', label=key+\"Train\")\n",
    "        plt.plot(list_trials, dict_test[key], label=key+\"Test\")\n",
    "        \n",
    "    plt.legend(bbox_to_anchor=(1.05, 1.0))"
   ]
  },
  {
   "cell_type": "code",
   "execution_count": 115,
   "id": "0ace9c97",
   "metadata": {},
   "outputs": [
    {
     "data": {
      "application/vnd.jupyter.widget-view+json": {
       "model_id": "72557e7e87dd4ef9954f4b5ede5d4751",
       "version_major": 2,
       "version_minor": 0
      },
      "text/plain": [
       "  0%|          | 0/9 [00:00<?, ?it/s]"
      ]
     },
     "metadata": {},
     "output_type": "display_data"
    }
   ],
   "source": [
    "# dict_estimator_real = TestAccurayOnDataset(dataset, num_trials)\n",
    "# dict_estimator_k = TestAccurayOnDataset(dataset, num_trials)\n",
    "# dict_estimator_bin = TestAccurayOnDataset(dataset, num_trials)\n",
    "\n",
    "list_trials = np.arange(100,1100,100)\n",
    "\n",
    "list_trials = np.arange(1,10,1)\n",
    "# print(list_trials)\n",
    "\n",
    "test_size_ratio = 0.3333\n",
    "\n",
    "list_keys = ['LogisticRegression', 'RandomForest']\n",
    "\n",
    "dict_train_mean = {var: [] for var in list_keys}\n",
    "dict_train_std = {var: [] for var in list_keys}\n",
    "\n",
    "dict_test_mean = {var: [] for var in list_keys}\n",
    "dict_test_std = {var: [] for var in list_keys}\n",
    "\n",
    "for num_trials in tqdm(list_trials):\n",
    "#     print(num_trials)\n",
    "    dict_estimator = TestAccurayOnDataset(X, Y, num_trials, test_size_ratio)\n",
    "    \n",
    "    for key in dict_estimator.keys():\n",
    "        \n",
    "        if(key in dict_train_mean):\n",
    "            dict_train_mean[key].append(np.mean(dict_estimator[key]['train']))\n",
    "            dict_train_std[key].append(np.std(dict_estimator[key]['train']))\n",
    "\n",
    "            dict_test_mean[key].append(np.mean(dict_estimator[key]['test']))\n",
    "            dict_test_std[key].append(np.std(dict_estimator[key]['test']))\n"
   ]
  },
  {
   "cell_type": "code",
   "execution_count": 116,
   "id": "b474b6bb",
   "metadata": {},
   "outputs": [
    {
     "data": {
      "image/png": "[encoded data removed]",
      "text/plain": [
       "<Figure size 432x288 with 1 Axes>"
      ]
     },
     "metadata": {
      "needs_background": "light"
     },
     "output_type": "display_data"
    }
   ],
   "source": [
    "PlotResults(list_trials, dict_train_mean, dict_test_mean)"
   ]
  },
  {
   "cell_type": "code",
   "execution_count": null,
   "id": "59c85103",
   "metadata": {},
   "outputs": [],
   "source": [
    "# plt.legend(loc=\"upper left\")\n",
    "plt.show()"
   ]
  },
  {
   "cell_type": "code",
   "execution_count": null,
   "id": "88cb1f27",
   "metadata": {},
   "outputs": [],
   "source": [
    "def GenerateFaultScore():\n",
    "    s = np.random.normal(0, 1)"
   ]
  },
  {
   "cell_type": "code",
   "execution_count": null,
   "id": "2a88bce2",
   "metadata": {},
   "outputs": [],
   "source": [
    "my_list = list(range(100))\n",
    "for x in tqdm(my_list):\n",
    "    pass"
   ]
  },
  {
   "cell_type": "code",
   "execution_count": null,
   "id": "419ab6cd",
   "metadata": {},
   "outputs": [],
   "source": []
  }
 ],
 "metadata": {
  "kernelspec": {
   "display_name": "Python [conda env:ML2021Spring] *",
   "language": "python",
   "name": "conda-env-ML2021Spring-py"
  },
  "language_info": {
   "codemirror_mode": {
    "name": "ipython",
    "version": 3
   },
   "file_extension": ".py",
   "mimetype": "text/x-python",
   "name": "python",
   "nbconvert_exporter": "python",
   "pygments_lexer": "ipython3",
   "version": "3.8.8"
  }
 },
 "nbformat": 4,
 "nbformat_minor": 5
}
