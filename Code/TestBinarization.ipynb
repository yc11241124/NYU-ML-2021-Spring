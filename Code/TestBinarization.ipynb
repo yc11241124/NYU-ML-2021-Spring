{
 "cells": [
  {
   "cell_type": "code",
   "execution_count": 2,
   "id": "f01ba119",
   "metadata": {},
   "outputs": [],
   "source": [
    "import numpy as np\n",
    "from sklearn.linear_model import SGDClassifier\n",
    "from sklearn.ensemble import RandomForestClassifier\n",
    "from sklearn.linear_model import LogisticRegression\n",
    "\n",
    "from sklearn.metrics import accuracy_score\n",
    "\n",
    "import warnings\n",
    "from sklearn.exceptions import DataConversionWarning\n",
    "warnings.filterwarnings(action='ignore', category=DataConversionWarning)\n",
    "\n",
    "from DataConversion import ConvertDatasetToBinary_V2, ConvertDatasetToDiscreteK_V2\n",
    "\n"
   ]
  },
  {
   "cell_type": "code",
   "execution_count": 3,
   "id": "e120805b",
   "metadata": {},
   "outputs": [
    {
     "data": {
      "image/png": "[encoded data removed]",
      "text/plain": [
       "<Figure size 432x288 with 2 Axes>"
      ]
     },
     "metadata": {
      "needs_background": "light"
     },
     "output_type": "display_data"
    }
   ],
   "source": [
    "from sklearn.datasets import load_iris\n",
    "iris = load_iris()\n",
    "\n",
    "iris.keys()\n",
    "\n",
    "n_samples, n_features = iris.data.shape\n",
    "# print((n_samples, n_features))\n",
    "# print(iris.data[0])\n",
    "\n",
    "# print(iris.data.shape)\n",
    "# print(iris.target.shape)\n",
    "\n",
    "# print(iris.target)\n",
    "\n",
    "# print(type(iris.data))\n",
    "# print(iris.data)\n",
    "\n",
    "# print(iris.target_names)\n",
    "\n",
    "import numpy as np\n",
    "import matplotlib.pyplot as plt\n",
    "\n",
    "x_index = 0\n",
    "y_index = 1\n",
    "\n",
    "# this formatter will label the colorbar with the correct target names\n",
    "formatter = plt.FuncFormatter(lambda i, *args: iris.target_names[int(i)])\n",
    "\n",
    "plt.scatter(iris.data[:, x_index], iris.data[:, y_index],\n",
    "            c=iris.target, cmap=plt.cm.get_cmap('RdYlBu', 3))\n",
    "plt.colorbar(ticks=[0, 1, 2], format=formatter)\n",
    "plt.clim(-0.5, 2.5)\n",
    "plt.xlabel(iris.feature_names[x_index])\n",
    "plt.ylabel(iris.feature_names[y_index]);"
   ]
  },
  {
   "cell_type": "code",
   "execution_count": 6,
   "id": "dacb9189",
   "metadata": {},
   "outputs": [
    {
     "name": "stdout",
     "output_type": "stream",
     "text": [
      "[[0. 1. 1. ... 0. 0. 0.]\n",
      " [0. 1. 1. ... 0. 0. 0.]\n",
      " [0. 1. 1. ... 0. 0. 0.]\n",
      " ...\n",
      " [1. 0. 0. ... 1. 1. 0.]\n",
      " [1. 0. 0. ... 1. 1. 1.]\n",
      " [1. 0. 0. ... 1. 1. 0.]]\n"
     ]
    }
   ],
   "source": [
    "height_bt = 3\n",
    "type_root = \"half\"\n",
    "data_train_B, data_test_B = ConvertDatasetToBinary_V2(iris.data, iris.data, height_bt, type_root)\n",
    "print(data_train_B)"
   ]
  },
  {
   "cell_type": "code",
   "execution_count": 5,
   "id": "8f3725d1",
   "metadata": {},
   "outputs": [
    {
     "ename": "NameError",
     "evalue": "name 'iris_bindata' is not defined",
     "output_type": "error",
     "traceback": [
      "\u001b[0;31m---------------------------------------------------------------------------\u001b[0m",
      "\u001b[0;31mNameError\u001b[0m                                 Traceback (most recent call last)",
      "\u001b[0;32m<ipython-input-5-525facfe770b>\u001b[0m in \u001b[0;36m<module>\u001b[0;34m\u001b[0m\n\u001b[1;32m      1\u001b[0m \u001b[0mclf_SGD_bin\u001b[0m \u001b[0;34m=\u001b[0m \u001b[0mSGDClassifier\u001b[0m\u001b[0;34m(\u001b[0m\u001b[0mloss\u001b[0m\u001b[0;34m=\u001b[0m\u001b[0;34m\"hinge\"\u001b[0m\u001b[0;34m,\u001b[0m \u001b[0mpenalty\u001b[0m\u001b[0;34m=\u001b[0m\u001b[0;34m\"l2\"\u001b[0m\u001b[0;34m,\u001b[0m \u001b[0mmax_iter\u001b[0m\u001b[0;34m=\u001b[0m\u001b[0;36m5\u001b[0m\u001b[0;34m)\u001b[0m\u001b[0;34m\u001b[0m\u001b[0;34m\u001b[0m\u001b[0m\n\u001b[0;32m----> 2\u001b[0;31m \u001b[0mclf_SGD_bin\u001b[0m\u001b[0;34m.\u001b[0m\u001b[0mfit\u001b[0m\u001b[0;34m(\u001b[0m\u001b[0miris_bindata\u001b[0m\u001b[0;34m,\u001b[0m \u001b[0miris\u001b[0m\u001b[0;34m.\u001b[0m\u001b[0mtarget\u001b[0m\u001b[0;34m)\u001b[0m\u001b[0;34m\u001b[0m\u001b[0;34m\u001b[0m\u001b[0m\n\u001b[0m\u001b[1;32m      3\u001b[0m \u001b[0mclf_SGD_bin\u001b[0m\u001b[0;34m.\u001b[0m\u001b[0mscore\u001b[0m\u001b[0;34m(\u001b[0m\u001b[0miris_bindata\u001b[0m\u001b[0;34m,\u001b[0m \u001b[0miris\u001b[0m\u001b[0;34m.\u001b[0m\u001b[0mtarget\u001b[0m\u001b[0;34m)\u001b[0m\u001b[0;34m\u001b[0m\u001b[0;34m\u001b[0m\u001b[0m\n\u001b[1;32m      4\u001b[0m \u001b[0;34m\u001b[0m\u001b[0m\n\u001b[1;32m      5\u001b[0m \u001b[0;34m\u001b[0m\u001b[0m\n",
      "\u001b[0;31mNameError\u001b[0m: name 'iris_bindata' is not defined"
     ]
    }
   ],
   "source": [
    "clf_SGD_bin = SGDClassifier(loss=\"hinge\", penalty=\"l2\", max_iter=5)\n",
    "clf_SGD_bin.fit(iris_bindata, iris.target)\n",
    "clf_SGD_bin.score(iris_bindata, iris.target)\n",
    "\n",
    "\n",
    "# clf_SGD.predict([[2., 2.]])\n",
    "# accuracy_score(y_true, y_pred)"
   ]
  },
  {
   "cell_type": "code",
   "execution_count": null,
   "id": "09177d6e",
   "metadata": {},
   "outputs": [],
   "source": [
    "clf_SGD = SGDClassifier(loss=\"hinge\", penalty=\"l2\", max_iter=5)\n",
    "clf_SGD.fit(iris.data, iris.target)\n",
    "clf_SGD.score(iris.data, iris.target)"
   ]
  },
  {
   "cell_type": "code",
   "execution_count": null,
   "id": "8086953d",
   "metadata": {},
   "outputs": [],
   "source": []
  },
  {
   "cell_type": "code",
   "execution_count": null,
   "id": "84c83407",
   "metadata": {},
   "outputs": [],
   "source": [
    "clf_RF_bin = RandomForestClassifier(max_depth=2, random_state=0)\n",
    "clf_RF_bin.fit(iris_bindata, iris.target)\n",
    "clf_RF_bin.score(iris_bindata, iris.target)"
   ]
  },
  {
   "cell_type": "code",
   "execution_count": null,
   "id": "5e566180",
   "metadata": {},
   "outputs": [],
   "source": [
    "clf_RF = RandomForestClassifier(max_depth=2, random_state=0)\n",
    "clf_RF.fit(iris.data, iris.target)\n",
    "clf_RF.score(iris.data, iris.target)"
   ]
  },
  {
   "cell_type": "code",
   "execution_count": null,
   "id": "199d4733",
   "metadata": {},
   "outputs": [],
   "source": [
    "clf_LR_bin = LogisticRegression(random_state=0)\n",
    "clf_LR_bin.fit(iris_bindata, iris.target)\n",
    "clf_LR_bin.score(iris_bindata, iris.target)"
   ]
  },
  {
   "cell_type": "code",
   "execution_count": null,
   "id": "ab13cd4d",
   "metadata": {},
   "outputs": [],
   "source": [
    "clf_LR = LogisticRegression(random_state=0)\n",
    "clf_LR.fit(iris.data, iris.target)\n",
    "clf_LR.score(iris.data, iris.target)"
   ]
  },
  {
   "cell_type": "code",
   "execution_count": null,
   "id": "4fca4eb5",
   "metadata": {},
   "outputs": [],
   "source": []
  },
  {
   "cell_type": "code",
   "execution_count": null,
   "id": "c3195164",
   "metadata": {},
   "outputs": [],
   "source": [
    "# def ConvertContinuousToBinary(array_data, height_bt, type_root):\n",
    "# #     print(array_data)\n",
    "#     N = len(array_data)\n",
    "#     mean_data = np.mean(array_data)\n",
    "#     median_data = np.median(array_data)\n",
    "#     min_data = np.amin(array_data)\n",
    "#     max_data = np.amax(array_data)\n",
    "        \n",
    "#     ## Temporarily only accept non-negative values\n",
    "#     if(min_data < 0):\n",
    "#         return None\n",
    "    \n",
    "#     value_root = mean_data\n",
    "#     if(type_root == \"mean\"):\n",
    "#         value_root = mean_data\n",
    "#     elif(type_root == \"median\"):\n",
    "#         value_root = median_data\n",
    "        \n",
    "#     array_bin_data = np.empty((N,height_bt))\n",
    "    \n",
    "#     for i_n in range(0, N):\n",
    "#         data = array_data[i_n]\n",
    "#         value_check = value_root\n",
    "#         bin_data = np.empty((1,height_bt))\n",
    "        \n",
    "#         for i_height in range(0, height_bt):\n",
    "#             bin_i = None\n",
    "            \n",
    "#             if(data <= value_check):\n",
    "#                 bin_i = 0\n",
    "#                 value_check = value_check - value_check/2\n",
    "#             else:\n",
    "#                 bin_i = 1\n",
    "#                 value_check = value_check + value_check/2\n",
    "                \n",
    "#             bin_data[0,i_height] = bin_i\n",
    "                    \n",
    "# #         print(array_bin_data)\n",
    "#         array_bin_data[i_n] = bin_data\n",
    "        \n",
    "\n",
    "# #     print(array_bin_data)\n",
    "#     return array_bin_data"
   ]
  },
  {
   "cell_type": "code",
   "execution_count": null,
   "id": "f74de123",
   "metadata": {},
   "outputs": [],
   "source": [
    "# def ConvertDatasetToBinary(dataset):\n",
    "#     N = len(dataset)\n",
    "#     if(N<=0):\n",
    "#         return None\n",
    "    \n",
    "#     DIM = len(dataset[0])\n",
    "    \n",
    "#     height_bt = 3\n",
    "#     type_root = \"mean\"\n",
    "    \n",
    "#     binset = np.empty([N,1])\n",
    "    \n",
    "#     for i_dim in range(0,DIM):\n",
    "#         data_dim = dataset[:,i_dim]\n",
    "#         bin_dim = ConvertContinuousToBinary(data_dim, height_bt, type_root)\n",
    "        \n",
    "#         binset = np.column_stack((binset,bin_dim))\n",
    "    \n",
    "#     binset = binset[:,1:]\n",
    "#     print(binset)\n",
    "#     print(binset.shape)\n",
    "    \n",
    "#     return binset"
   ]
  }
 ],
 "metadata": {
  "kernelspec": {
   "display_name": "Python [conda env:ML2021Spring] *",
   "language": "python",
   "name": "conda-env-ML2021Spring-py"
  },
  "language_info": {
   "codemirror_mode": {
    "name": "ipython",
    "version": 3
   },
   "file_extension": ".py",
   "mimetype": "text/x-python",
   "name": "python",
   "nbconvert_exporter": "python",
   "pygments_lexer": "ipython3",
   "version": "3.8.8"
  }
 },
 "nbformat": 4,
 "nbformat_minor": 5
}
